{
 "cells": [
  {
   "attachments": {},
   "cell_type": "markdown",
   "metadata": {},
   "source": [
    "可参阅下面文档\n",
    "https://github.com/matazure/prajna/blob/dev/docs/%E8%88%AC%E8%8B%A5%E7%BC%96%E7%A8%8B%E8%AF%AD%E8%A8%80%E6%8C%87%E5%8D%97.md"
   ]
  },
  {
   "cell_type": "code",
   "execution_count": null,
   "metadata": {},
   "outputs": [],
   "source": [
    "\"Hello World!\""
   ]
  }
 ],
 "metadata": {
  "kernelspec": {
   "display_name": "Prajna",
   "language": "prajna",
   "name": "prajna"
  },
  "language_info": {
   "name": "prajna"
  },
  "orig_nbformat": 4
 },
 "nbformat": 4,
 "nbformat_minor": 2
}
