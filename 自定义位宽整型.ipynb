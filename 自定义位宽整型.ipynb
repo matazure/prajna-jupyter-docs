{
 "cells": [
  {
   "attachments": {},
   "cell_type": "markdown",
   "metadata": {},
   "source": [
    "# 自定义位宽整型\n",
    "\n",
    "很多编程语言如C/C++等只支持有限的8/16/32/64位整型, 当我们需要更大位宽的时候, 只能通过\"大数库\"等来支持. 这和原生类型相差甚远, 使用繁琐, 且和现有的模板库不兼容.\n",
    "\n",
    "得益于般若简洁而强大的模板特性, 般若可以通过Int和Uint模板来定义任意位宽的整型类型."
   ]
  },
  {
   "cell_type": "code",
   "execution_count": 1,
   "metadata": {},
   "outputs": [
    {
     "data": {
      "text/plain": [
       "7"
      ]
     },
     "execution_count": 1,
     "metadata": {},
     "output_type": "execute_result"
    },
    {
     "data": {
      "text/plain": [
       "-8"
      ]
     },
     "execution_count": 1,
     "metadata": {},
     "output_type": "execute_result"
    },
    {
     "data": {
      "text/plain": [
       "115792089237316195423570985008687907853269984665640564039457584007913129639935"
      ]
     },
     "execution_count": 1,
     "metadata": {},
     "output_type": "execute_result"
    },
    {
     "data": {
      "text/plain": [
       "0"
      ]
     },
     "execution_count": 1,
     "metadata": {},
     "output_type": "execute_result"
    }
   ],
   "source": [
    "int<4>::Max(); \n",
    "int<4>::Min();\n",
    "Uint<256>::Max();\n",
    "Uint<256>::Min();"
   ]
  },
  {
   "attachments": {},
   "cell_type": "markdown",
   "metadata": {},
   "source": [
    "下面是一个4位有符号整型的简单例子, 我们可以看到当tmp累加到7之后就变为-8了."
   ]
  },
  {
   "cell_type": "code",
   "execution_count": 2,
   "metadata": {},
   "outputs": [
    {
     "data": {
      "text/plain": [
       "-7, -6, -5, -4, -3, -2, -1, 0, 1, 2, 3, 4, 5, 6, 7, -8, -7, -6, -5, -4, "
      ]
     },
     "execution_count": 2,
     "metadata": {},
     "output_type": "execute_result"
    }
   ],
   "source": [
    "use int<4> as i4;\n",
    "\n",
    "var tmp = i4::Min();\n",
    "var one = 1i64.Cast<i4>(); // 般若是强类型语言, 不同类型的赋值必须显示转换.\n",
    "\n",
    "var str_result = String::Create(0); // string需要收到初始化, 目前般若的初始化机制还不完善.\n",
    "for i in 0 to 20 { \n",
    "    tmp = tmp + one;\n",
    "    str_result = str_result + tmp.ToString() + \", \";\n",
    "}\n",
    "\n",
    "str_result.Print();"
   ]
  },
  {
   "attachments": {},
   "cell_type": "markdown",
   "metadata": {},
   "source": [
    "这是一个128位有符号整型的例子"
   ]
  },
  {
   "cell_type": "code",
   "execution_count": 3,
   "metadata": {},
   "outputs": [
    {
     "data": {
      "text/plain": [
       "18446744073709551614"
      ]
     },
     "execution_count": 3,
     "metadata": {},
     "output_type": "execute_result"
    }
   ],
   "source": [
    "use int<128> as i128;\n",
    "\n",
    "var i64_max = i64::Max().Cast<i128>();\n",
    "i64_max + i64_max"
   ]
  },
  {
   "attachments": {},
   "cell_type": "markdown",
   "metadata": {},
   "source": [
    "事实上不止整型, 般若也非常重视浮点型的支持. 目前般若原生支持float16, 后续还会支持float128和其他必要的浮点型.\n",
    "我们提供了Float模板. 目前支持16, 32, 64位宽.\n"
   ]
  },
  {
   "cell_type": "code",
   "execution_count": 4,
   "metadata": {},
   "outputs": [
    {
     "data": {
      "text/plain": [
       "65504.0000"
      ]
     },
     "execution_count": 4,
     "metadata": {},
     "output_type": "execute_result"
    },
    {
     "data": {
      "text/plain": [
       "0.0000"
      ]
     },
     "execution_count": 4,
     "metadata": {},
     "output_type": "execute_result"
    }
   ],
   "source": [
    "// use float<16> as f16;\n",
    "// use float<32> as f32;\n",
    "// use float<64> as f64; // 系统已定义\n",
    "\n",
    "f16::Largest();\n",
    "f16::Smallest(); // float打印的精度不够, float打印还存在不少问题, 需要后面修复"
   ]
  },
  {
   "attachments": {},
   "cell_type": "markdown",
   "metadata": {},
   "source": [
    "过去由于缺乏对float16和int4的支持, 在Pytorch和Tensorflow的混合精度模块中, 花了很多精力来模拟float16和int4等类型, 而得到的结果也只是近似. \n",
    "\"工欲善其事, 必先利其器\", 玄青矩阵会逐步解决人工智能基础设施中的诸多问题, 般若编程语言会是为其而锻造的一把利剑."
   ]
  }
 ],
 "metadata": {
  "kernelspec": {
   "display_name": "Prajna",
   "language": "prajna",
   "name": "prajna"
  },
  "language_info": {
   "file_extension": ".prajnascripts",
   "mimetype": "text/x-prajna",
   "name": "prajna",
   "version": "0.0.0"
  },
  "orig_nbformat": 4
 },
 "nbformat": 4,
 "nbformat_minor": 2
}
